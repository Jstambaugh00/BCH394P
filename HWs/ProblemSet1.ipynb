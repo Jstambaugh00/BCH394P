{
 "cells": [
  {
   "cell_type": "markdown",
   "metadata": {},
   "source": [
    "# Problem Set 1 BCH 364P\n",
    "## Jacob Stambaugh, Js88749\n",
    "### 1/30/2020, Due : 2/8/2020\n",
    "\n",
    "Original probelm: http://www.marcottelab.org/users/BCH394P_364C_2021/BCH364C-394P_ProblemSet1_Spring2021.pdf"
   ]
  },
  {
   "cell_type": "markdown",
   "metadata": {},
   "source": [
    "## Problem 1\n",
    "Write a short Python program to calculate the frequencies of nucleotides in a DNA sequence. This\n",
    "can be the program from the Python primer or a program of your own construction. Run it on the H.\n",
    "influenza genome and the T. aquaticus genome (get the nucleotide sequence files directly from the\n",
    "course web page). Turn in the nucleotide frequencies of the two genomes & your program"
   ]
  },
  {
   "cell_type": "code",
   "execution_count": null,
   "metadata": {},
   "outputs": [],
   "source": [
    "# Import Data \n",
    "\n",
    "# read in file - H. Influenza\n",
    "\n",
    "# read in file - T. Aquatics\n"
   ]
  },
  {
   "cell_type": "code",
   "execution_count": null,
   "metadata": {},
   "outputs": [],
   "source": [
    "# Calculate Frequencies of each nucleotide\n",
    "\n",
    "# H. Influenza\n",
    "\n",
    "# T. Aquatics"
   ]
  },
  {
   "cell_type": "markdown",
   "metadata": {},
   "source": [
    "### Answer/ Observation of problem 1\n",
    "\n",
    "While\n"
   ]
  },
  {
   "cell_type": "markdown",
   "metadata": {},
   "source": [
    "## Problem 2\n",
    "Write a short Python program to calculate the frequencies of all dinucleotides in a DNA sequence.\n",
    "Again, this can be based on the program example in the Python primer or of your own construction.\n",
    "Run it on the H. influenza genome. Turn in the program and the dinucleotide frequencies of the H.\n",
    "influenza genome that are output when you run the program. "
   ]
  },
  {
   "cell_type": "code",
   "execution_count": null,
   "metadata": {},
   "outputs": [],
   "source": [
    "# Calculate Frequencies of dinucleotide- H. Influenza"
   ]
  },
  {
   "cell_type": "markdown",
   "metadata": {},
   "source": [
    "### Answer/ Observation of problem 2\n",
    "\n",
    "while"
   ]
  },
  {
   "cell_type": "markdown",
   "metadata": {},
   "source": [
    "## Problem 3\n",
    "Run your Python program from problem #2 on the genome of T. aquaticus. Turn in the observed\n",
    "dinucleotide frequencies. \n"
   ]
  },
  {
   "cell_type": "code",
   "execution_count": null,
   "metadata": {},
   "outputs": [],
   "source": [
    "# Calculate Frequencies of dinucleotide- T. Aquatics"
   ]
  },
  {
   "cell_type": "markdown",
   "metadata": {},
   "source": [
    "### Answer/ Observation of problem 3\n",
    "\n",
    "Yes"
   ]
  },
  {
   "cell_type": "markdown",
   "metadata": {},
   "source": [
    "## Problem 4\n",
    " Calculate the dinucleotide frequencies that you would expect for H. influenza, based upon the\n",
    "frequencies of the single nucleotides in H. influenza. Are the observed dinucleotide frequencies of the\n",
    "H. influenza genome that you found in problem 2 consistent with what you expected for the\n",
    "dinucleotide frequencies? If not, what might account for the difference? Turn in the expected\n",
    "dinucleotide frequencies & your speculations. "
   ]
  },
  {
   "cell_type": "code",
   "execution_count": null,
   "metadata": {},
   "outputs": [],
   "source": []
  },
  {
   "cell_type": "markdown",
   "metadata": {},
   "source": [
    "### Answer/ Observation of problem 4"
   ]
  },
  {
   "cell_type": "markdown",
   "metadata": {},
   "source": [
    "## Problem 5\n",
    "Run your Python program from problem #2 on the 3 mystery gene DNA sequences that you can download from the course web page. Print out the dinucleotide frequencies of each. Based on the observed dinucleotide frequencies, determine which genome each of the 3 genes is taken from. Turn in each of the genes’ dinucleotide frequencies & your guesses for their identities."
   ]
  },
  {
   "cell_type": "code",
   "execution_count": null,
   "metadata": {},
   "outputs": [],
   "source": [
    "# Import Mystery Gene\n"
   ]
  },
  {
   "cell_type": "code",
   "execution_count": 1,
   "metadata": {},
   "outputs": [],
   "source": [
    "# Perform Analysis\n"
   ]
  },
  {
   "cell_type": "markdown",
   "metadata": {},
   "source": [
    "### Answer/ Observation of problem 5"
   ]
  },
  {
   "cell_type": "markdown",
   "metadata": {},
   "source": [
    "# Scale of Biological Data"
   ]
  },
  {
   "cell_type": "markdown",
   "metadata": {},
   "source": [
    "## Problem 6\n",
    "Assume for simplicity that one nucleotide takes one byte of storage on a computer. Could I store my entire genome on my cell phone’s 100 gigabyte SD card (1 GB is 109 bytes)? In spite of the first human genome sequence costing a billion dollars, it is now technologically & economically possible to sequence a complete human genome for ~$1000, and the price is still dropping. How much would it cost to sequence the genome of everyone in the US newly diagnosed with cancer in a given year? You can find up-to-date cancer statistics here: https://www.cancer.gov/about cancer/understanding/statistics How much space would it take to store those genomes? Round your answer to the nearest petabyte (PB, 1015 bytes). For comparison, the UT TACC supercomputer has a storage capacity of ~160 PB. "
   ]
  },
  {
   "cell_type": "code",
   "execution_count": null,
   "metadata": {},
   "outputs": [],
   "source": []
  },
  {
   "cell_type": "markdown",
   "metadata": {},
   "source": [
    "### Answer/ Observation of problem 6"
   ]
  },
  {
   "cell_type": "markdown",
   "metadata": {},
   "source": [
    "## Problem 7\n",
    "How many times larger is the human genome sequence than the E. coli genome? The E. coli genome contains ~4,500 known genes, and the current estimate for the human genome is ~20,000-25,000 genes, or around 5 times more genes than in E. coli. Making the assumption that the genes of E. coli & human are about the same size (which isn’t at all true), calculate the density of genes in the two genomes.  "
   ]
  },
  {
   "cell_type": "code",
   "execution_count": null,
   "metadata": {},
   "outputs": [],
   "source": []
  },
  {
   "cell_type": "markdown",
   "metadata": {},
   "source": [
    "### Answer/ Observation of problem 7"
   ]
  },
  {
   "cell_type": "markdown",
   "metadata": {},
   "source": [
    "# Lastly\n",
    "Some exercises to familiarize you with the properties of protein sequences. Consult the BLOSUM50 substitution matrix in the class handout to answer these. The answers mayvary depending on how you define each case, so be sure to explain your logic. (In other words, there is often more than one way to answer these—I’m interested in seeing your choice and in how you defend your answer.) "
   ]
  },
  {
   "cell_type": "markdown",
   "metadata": {},
   "source": [
    "## Problem 8\n",
    "Which amino acid is most likely not to be substituted for by another? Explain how you came to this conclusion. "
   ]
  },
  {
   "cell_type": "code",
   "execution_count": null,
   "metadata": {},
   "outputs": [],
   "source": []
  },
  {
   "cell_type": "markdown",
   "metadata": {},
   "source": [
    "### Answer/ Observation of problem 8"
   ]
  },
  {
   "cell_type": "markdown",
   "metadata": {},
   "source": [
    "## Problem 9\n",
    "Which amino acids are most easily substituted for by others? Explain how you came to this conclusion."
   ]
  },
  {
   "cell_type": "code",
   "execution_count": null,
   "metadata": {},
   "outputs": [],
   "source": []
  },
  {
   "cell_type": "markdown",
   "metadata": {},
   "source": [
    "### Answer/ Observation of problem 9"
   ]
  },
  {
   "cell_type": "markdown",
   "metadata": {},
   "source": [
    "## Problem 10\n",
    "What are the most disfavored amino acid substitutions? Explain how you came to this conclusion. "
   ]
  },
  {
   "cell_type": "code",
   "execution_count": null,
   "metadata": {},
   "outputs": [],
   "source": []
  },
  {
   "cell_type": "markdown",
   "metadata": {},
   "source": [
    "### Answer/ Observation of problem 10"
   ]
  },
  {
   "cell_type": "markdown",
   "metadata": {},
   "source": [
    "## Problem 11\n",
    "Amino acids D, E, and H are charged; V, I, and L are hydrophobic (greasy).\n",
    "What is the average BLOSUM50 score within the group of the 3 charged amino acids?\n",
    "\n",
    "Within the 3 hydrophobic amino acids?\n",
    "\n",
    "Between the 2 groups?\n",
    "\n",
    "Suggest reasons for the pattern observed.  "
   ]
  },
  {
   "cell_type": "code",
   "execution_count": null,
   "metadata": {},
   "outputs": [],
   "source": []
  },
  {
   "cell_type": "markdown",
   "metadata": {},
   "source": [
    "### Answer/ Observation of problem 11"
   ]
  }
 ],
 "metadata": {
  "kernelspec": {
   "display_name": "Python 3",
   "language": "python",
   "name": "python3"
  },
  "language_info": {
   "codemirror_mode": {
    "name": "ipython",
    "version": 3
   },
   "file_extension": ".py",
   "mimetype": "text/x-python",
   "name": "python",
   "nbconvert_exporter": "python",
   "pygments_lexer": "ipython3",
   "version": "3.8.5"
  }
 },
 "nbformat": 4,
 "nbformat_minor": 4
}
