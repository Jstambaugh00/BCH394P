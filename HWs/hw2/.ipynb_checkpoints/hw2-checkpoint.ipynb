{
 "cells": [
  {
   "cell_type": "markdown",
   "metadata": {
    "collapsed": true,
    "pycharm": {
     "name": "#%% md\n"
    }
   },
   "source": [
    "# HW 2 BCH394P\n",
    "## Jacob Stambaugh, JS88749\n",
    "02/25/21 | Due: 03/09/21"
   ]
  },
  {
   "cell_type": "markdown",
   "metadata": {
    "pycharm": {
     "name": "#%% md\n"
    }
   },
   "source": [
    "# Problem 1: Hidden Markov Model for finding transmembrane protein sequences\n",
    "Proteins in a cell are often synthesized by a ribosome at one location in a cell (for example, in the\n",
    "cytosol or attached to the endoplasmic reticulum), then shipped someplace else in the cell where the\n",
    "proteins actually do their work. About a fourth to a third of the proteins get attached to membranes,\n",
    "often with a portion of the protein on one side of a membrane, a portion penetrating the membrane, and\n",
    "a portion on the other side of the membrane:\n",
    "\n",
    "( pic 1)\n",
    "\n",
    "In this problem, we’ll train a hidden Markov model to detect the regions of these so-called “integral\n",
    "membrane proteins” that end up buried in the membrane. The reason we can do this is because the\n",
    "amino acids in these regions tend to be much greasier in character than the amino acids in the nonmembrane-associated part of the protein.\n",
    "We’ll construct a very simple hidden Markov model of the following architecture:\n",
    "\n",
    "(pic2)"
   ]
  },
  {
   "cell_type": "markdown",
   "metadata": {
    "pycharm": {
     "name": "#%% md\n"
    }
   },
   "source": [
    "## Part 1, Problem 1\n",
    "Calculate the frequencies of amino acids in the first two files (remember your programs from the first\n",
    "problem set?). Use these frequencies to generate the emission probability tables of the S and T states of\n",
    "the HMM."
   ]
  },
  {
   "cell_type": "code",
   "execution_count": 1,
   "metadata": {},
   "outputs": [],
   "source": [
    "# From Before: find freq of each base\n",
    "def calc_freq_single(txt):\n",
    "    # Define dictionary\n",
    "    aa_emission={}\n",
    "    le=0\n",
    "    \n",
    "    # Loop through each line in text file \n",
    "    for line in txt.readlines():\n",
    "        line=line.strip('\\r \\n')\n",
    "        # loop through each line to update dict nucleotides\n",
    "        for ammino in line:\n",
    "            le+=1\n",
    "            if aa_emission.get(ammino)!=None:\n",
    "                aa_emission.update({ammino:aa_emission.get(ammino)+1})\n",
    "            else:\n",
    "                aa_emission.update({ammino:1})\n",
    "                \n",
    "    for i in aa_emission.keys():\n",
    "        aa_emission.update({i:aa_emission.get(i)/le})\n",
    "    \n",
    "    return aa_emission\n"
   ]
  },
  {
   "cell_type": "code",
   "execution_count": 2,
   "metadata": {
    "pycharm": {
     "name": "#%%\n"
    }
   },
   "outputs": [
    {
     "name": "stdout",
     "output_type": "stream",
     "text": [
      "Emission probabilities for Transmembrane protiens:\n",
      "Ammino Acid: W and its probability 0.0226\n",
      "Ammino Acid: L and its probability 0.158\n",
      "Ammino Acid: N and its probability 0.0209\n",
      "Ammino Acid: M and its probability 0.0316\n",
      "Ammino Acid: V and its probability 0.0982\n",
      "Ammino Acid: C and its probability 0.0265\n",
      "Ammino Acid: G and its probability 0.0763\n",
      "Ammino Acid: P and its probability 0.0288\n",
      "Ammino Acid: I and its probability 0.1288\n",
      "Ammino Acid: Y and its probability 0.0414\n",
      "Ammino Acid: F and its probability 0.1072\n",
      "Ammino Acid: A and its probability 0.0837\n",
      "Ammino Acid: S and its probability 0.068\n",
      "Ammino Acid: T and its probability 0.0523\n",
      "Ammino Acid: R and its probability 0.0059\n",
      "Ammino Acid: Q and its probability 0.0139\n",
      "Ammino Acid: H and its probability 0.0077\n",
      "Ammino Acid: E and its probability 0.0095\n",
      "Ammino Acid: D and its probability 0.0091\n",
      "Ammino Acid: K and its probability 0.0092\n"
     ]
    }
   ],
   "source": [
    "# Calc frequencies - Transmembrane\n",
    "trans_mem = open('transmembrane_sequences.txt')\n",
    "transmem_freq=calc_freq_single(trans_mem)\n",
    "\n",
    "# Display Results\n",
    "print('Emission probabilities for Transmembrane protiens:')\n",
    "for i in transmem_freq.keys():\n",
    "    print('Ammino Acid:',i,'and it''s probability',round(transmem_freq.get(i),4))"
   ]
  },
  {
   "cell_type": "code",
   "execution_count": 3,
   "metadata": {},
   "outputs": [
    {
     "name": "stdout",
     "output_type": "stream",
     "text": [
      "Emission probabilities for Soluble protiens:\n",
      "Ammino Acid: M and its probability 0.0213\n",
      "Ammino Acid: P and its probability 0.0433\n",
      "Ammino Acid: T and its probability 0.0614\n",
      "Ammino Acid: S and its probability 0.0956\n",
      "Ammino Acid: G and its probability 0.0512\n",
      "Ammino Acid: I and its probability 0.0586\n",
      "Ammino Acid: E and its probability 0.0634\n",
      "Ammino Acid: L and its probability 0.0889\n",
      "Ammino Acid: D and its probability 0.0581\n",
      "Ammino Acid: Q and its probability 0.0371\n",
      "Ammino Acid: F and its probability 0.0465\n",
      "Ammino Acid: K and its probability 0.0715\n",
      "Ammino Acid: A and its probability 0.0536\n",
      "Ammino Acid: V and its probability 0.0526\n",
      "Ammino Acid: N and its probability 0.0594\n",
      "Ammino Acid: R and its probability 0.05\n",
      "Ammino Acid: H and its probability 0.0227\n",
      "Ammino Acid: W and its probability 0.0137\n",
      "Ammino Acid: Y and its probability 0.0392\n",
      "Ammino Acid: C and its probability 0.0121\n"
     ]
    }
   ],
   "source": [
    "# Calc frequencies - soluble\n",
    "soluble = open('soluble_sequences.txt')\n",
    "soluble_freq=calc_freq_single(soluble)\n",
    "\n",
    "# Display Results\n",
    "print('Emission probabilities for Soluble protiens:')\n",
    "for i in soluble_freq.keys():\n",
    "    print('Ammino Acid:',i,'and it''s probability',round(soluble_freq.get(i),4))"
   ]
  },
  {
   "cell_type": "markdown",
   "metadata": {
    "pycharm": {
     "name": "#%% md\n"
    }
   },
   "source": [
    "## Explanation for Problem 1: part 1\n",
    "\n",
    "Looking"
   ]
  },
  {
   "cell_type": "markdown",
   "metadata": {
    "pycharm": {
     "name": "#%% md\n"
    }
   },
   "source": [
    "## Part 2, Problem 1\n",
    "Calculate the frequencies of beginning a sequence in each of the 2 states in the third file. Use these to\n",
    "calculate the transition probabilities from the beginning state of the HMM."
   ]
  },
  {
   "cell_type": "code",
   "execution_count": 4,
   "metadata": {
    "pycharm": {
     "name": "#%%\n"
    }
   },
   "outputs": [],
   "source": [
    "# Part 2: Calculate freq of beginning in each state\n",
    "\n",
    "# load data\n",
    "state_dict={'S':0,'T':0}\n",
    "state_seq = open('state_sequences.txt')\n",
    "\n",
    "num_line=0\n",
    "\n",
    "# loop and count S&T's in the begining of each line\n",
    "for line in state_seq.readlines():\n",
    "    line=line.strip('\\r\\n')\n",
    "    state_dict.update({line[0]:state_dict.get(line[0])+1})\n",
    "    num_line+=1\n",
    "    \n",
    "# Divide dict by length to find probability\n",
    "for key in state_dict.keys():\n",
    "    state_dict.update({key:state_dict.get(key)/num_line})"
   ]
  },
  {
   "cell_type": "code",
   "execution_count": 5,
   "metadata": {},
   "outputs": [
    {
     "name": "stdout",
     "output_type": "stream",
     "text": [
      "Domain S occurs at the beginning of read 98.536 % of the time!\n",
      "Domain T occurs at the beginning of read 1.464 % of the time!\n"
     ]
    }
   ],
   "source": [
    "# Print Results\n",
    "for key in state_dict.keys():\n",
    "    print('Domain %s occurs at the beginning of read %.3f %% of the time!'%(key,state_dict.get(key)*100))"
   ]
  },
  {
   "cell_type": "markdown",
   "metadata": {
    "pycharm": {
     "name": "#%% md\n"
    }
   },
   "source": [
    "## Part 3, Problem 1\n",
    "Calculate the number of occurrences of each digram in the state file. (e.g., SS or TT or ST or TS. A\n",
    "digram is a 2 character string. In general, a string of n characters is an n-gram.) You can use your other\n",
    "program from problem set#1 for this. From the numbers of observations, you should be able to\n",
    "construct the transition probability matrix for the HMM."
   ]
  },
  {
   "cell_type": "code",
   "execution_count": 6,
   "metadata": {
    "pycharm": {
     "name": "#%%\n"
    }
   },
   "outputs": [],
   "source": [
    "# From Before: Calc frequencies function\n",
    "\n",
    "def calc_freq(txt):\n",
    "    # Define dict for di-nucleotides\n",
    "    difreq_dict={}\n",
    "    prev_base=-1\n",
    "    \n",
    "    # Loop through each line in text file\n",
    "    for line in txt.readlines():\n",
    "        # SKip emtpy lines\n",
    "        if not line.strip():\n",
    "            continue\n",
    "        # get new line\n",
    "        line=line.strip('\\r\\n')\n",
    "        \n",
    "        # loop through each line to count dinucleotides\n",
    "        for i in range(0,len(line)-1):\n",
    "                \n",
    "            base=line[i:i+2]# gets di-pair\n",
    "            \n",
    "            # update dictionary\n",
    "            if difreq_dict.get(base)!=None:\n",
    "                difreq_dict.update({base:difreq_dict.get(base)+1})\n",
    "            else:\n",
    "                # add new pair\n",
    "                difreq_dict.update({base:1})\n",
    "               \n",
    "            # attach(save) last base pair to new line\n",
    "            #if i == len(line)-2:\n",
    "                #prev_base=line[len(line)-1]\n",
    "                    \n",
    "    # divide by total length\n",
    "    le=0\n",
    "    for i in difreq_dict.keys():\n",
    "        le+=difreq_dict.get(i)\n",
    "  \n",
    "    for i in difreq_dict.keys():\n",
    "        difreq_dict.update({i:difreq_dict.get(i)})\n",
    "        \n",
    "    return difreq_dict"
   ]
  },
  {
   "cell_type": "code",
   "execution_count": 7,
   "metadata": {
    "pycharm": {
     "name": "#%%\n"
    }
   },
   "outputs": [
    {
     "data": {
      "text/plain": [
       "array([[0.98721407, 0.01278593],\n",
       "       [0.04733914, 0.95266086]])"
      ]
     },
     "execution_count": 7,
     "metadata": {},
     "output_type": "execute_result"
    }
   ],
   "source": [
    "# Part 3: Calculate freq of each digram\n",
    "import numpy as np\n",
    "\n",
    "# load data\n",
    "state_seq = open('state_sequences.txt')\n",
    "\n",
    "# get freq \n",
    "state_seq=calc_freq(state_seq)\n",
    "\n",
    "# transform into transistion probs\n",
    "transistion_matrix=np.empty([2,2])\n",
    "\n",
    "s_state_total=state_seq.get('SS')+state_seq.get('ST')\n",
    "t_state_total=state_seq.get('TT')+state_seq.get('TS')\n",
    "\n",
    "# add to matrix: SS,ST,TT,TS\n",
    "transistion_matrix[0,0]=(state_seq.get('SS')/s_state_total)\n",
    "transistion_matrix[0,1]=(state_seq.get('ST')/s_state_total)\n",
    "transistion_matrix[1,0]=(state_seq.get('TS')/t_state_total)\n",
    "transistion_matrix[1,1]=(state_seq.get('TT')/t_state_total)\n",
    "\n",
    "# Check matrix\n",
    "transistion_matrix"
   ]
  },
  {
   "cell_type": "markdown",
   "metadata": {},
   "source": [
    "## Part 4, Problem 1\n",
    "Now, take the amino acid sequence KNSFFFFFFFLIII and calculate the most likely state sequence\n",
    "using the Viterbi algorithm."
   ]
  },
  {
   "cell_type": "code",
   "execution_count": 64,
   "metadata": {
    "pycharm": {
     "name": "#%%\n"
    }
   },
   "outputs": [],
   "source": [
    "# Part 4: Viterbi Algo\n",
    "\n",
    "seq='MLYNMNYLVFSLLWYFLVGGGKGEVCWRFLGIVKSPNT' # sequence of interest \n",
    "\n",
    "# put emission probs into list for east access\n",
    "emission=[soluble_freq,transmem_freq]\n",
    "\n",
    "# Intialize path matrix - will be a 2D list of dictionaries\n",
    "path_mat=[{}] \n",
    "\n",
    "\n",
    "# get variables \n",
    "b_s=state_dict.get('S')\n",
    "b_t=state_dict.get('T')\n",
    "\n",
    "# solve first column\n",
    "path_mat[0][0]={\"prob\": b_s*soluble_freq.get(seq[0]) ,\"prev\": 'B'}\n",
    "path_mat[0][1]={\"prob\": b_t*transmem_freq.get(seq[0]) ,\"prev\": 'B'}\n",
    "\n",
    "\n",
    "# Iterate throguh and solve \n",
    "\n",
    "# outer loop - goes through input sequence\n",
    "for aa in range(1,len(seq)):\n",
    "    path_mat.append({})\n",
    "    \n",
    "    # inner loop - solves for both S + T states\n",
    "    for state in range(0,2):\n",
    "        \n",
    "        # arb resseting\n",
    "        max_tr_prob = path_mat[aa-1][1][\"prob\"] * transistion_matrix[1,state]\n",
    "        prev_st_selected = 0\n",
    "        \n",
    "        # inner inner loop - goes through every previous value\n",
    "        for prev_state in range (0,2):\n",
    "            \n",
    "            # calculate prob for previous \n",
    "            tr_prob = path_mat[aa - 1][prev_state][\"prob\"] * transistion_matrix[prev_state][state]\n",
    "            \n",
    "            # save max prob + state\n",
    "            if tr_prob > max_tr_prob:\n",
    "                max_tr_prob = tr_prob\n",
    "                prev_st_selected = prev_state\n",
    "            \n",
    "        \n",
    "        # Get best prob\n",
    "        max_prob = max_tr_prob * emission[state][seq[aa]]\n",
    "        \n",
    "        # and update matrix\n",
    "        path_mat[aa][state]= {\"prob\": max_prob ,\"prev\":prev_st_selected }\n",
    "        #path_mat[state,aa]=sum(temp_list) <- foward algo implementation \n"
   ]
  },
  {
   "cell_type": "code",
   "execution_count": 65,
   "metadata": {},
   "outputs": [
    {
     "name": "stdout",
     "output_type": "stream",
     "text": [
      "The steps of states are| S S S S S S S S S S S S S S S S S S S S S S S S S S S S S S S S S S S S S S |with highest probability of 2.437669071992522e-50\n"
     ]
    }
   ],
   "source": [
    "# back track to get Best path\n",
    "\n",
    "best_path = []\n",
    "max_prob = 0\n",
    "best_st = None\n",
    "\n",
    "# Get most probable end state \n",
    "if path_mat[-1].get(1).get('prob')>path_mat[-1].get(0).get('prob'):\n",
    "    end=1\n",
    "    best_path.append(end)\n",
    "    max_prob+=path_mat[-1].get(1).get('prob')\n",
    "else:\n",
    "    end=0\n",
    "    best_path.append(end)\n",
    "    max_prob+=path_mat[-1].get(0).get('prob')\n",
    "\n",
    "# Follow the backtrack till the first observation\n",
    "for t in range(len(path_mat) - 2, -1, -1):\n",
    "    best_path.insert(0, path_mat[t + 1][end][\"prev\"])\n",
    "    end = path_mat[t + 1][end][\"prev\"]\n",
    "    \n",
    "# Convert to string\n",
    "best_st_let=[]\n",
    "for i in best_path:\n",
    "    if i ==0:\n",
    "        best_st_let.append('S')\n",
    "    else:\n",
    "        best_st_let.append('T')\n",
    "\n",
    "print (\"The steps of states are| \" + \" \".join(best_st_let) + \" |with highest probability of %s\" % max_prob)\n"
   ]
  },
  {
   "cell_type": "code",
   "execution_count": 66,
   "metadata": {},
   "outputs": [
    {
     "data": {
      "text/plain": [
       "'S S S S S S S S S S S S S S S S S S S S S S S S S S S S S S S S S S S S S S'"
      ]
     },
     "execution_count": 66,
     "metadata": {},
     "output_type": "execute_result"
    }
   ],
   "source": [
    "# Expected: SSSSSSSSSSTTTTTTTTTTTTTTTTTTTTTTSSSSSS\n",
    "\" \".join(best_st_let)"
   ]
  },
  {
   "cell_type": "markdown",
   "metadata": {
    "pycharm": {
     "name": "#%% md\n"
    }
   },
   "source": [
    "## Wrapping Up Problem 1\n",
    "Turn in the transition probability matrix, emission probability matrix, the Viterbi matrix, and the most\n",
    "likely state sequence."
   ]
  },
  {
   "cell_type": "code",
   "execution_count": 51,
   "metadata": {},
   "outputs": [
    {
     "data": {
      "text/plain": [
       "[{0: {'prob': 0.020938974750641406, 'prev': 'B'},\n",
       "  1: {'prob': 0.0004631076268717129, 'prev': 'B'}},\n",
       " {0: {'prob': 0.0018384467651422576, 'prev': 0},\n",
       "  1: {'prob': 0.003151971780689722, 'prev': 0}},\n",
       " {0: {'prob': 7.120343047783303e-05, 'prev': 0},\n",
       "  1: {'prob': 0.00012443188664331092, 'prev': 1}},\n",
       " {0: {'prob': 4.174662972570242e-06, 'prev': 0},\n",
       "  1: {'prob': 2.4808163965190167e-06, 'prev': 1}},\n",
       " {0: {'prob': 8.757760851921636e-08, 'prev': 0},\n",
       "  1: {'prob': 1.258088775694075e-07, 'prev': 0}},\n",
       " {0: {'prob': 5.13468237496289e-09, 'prev': 0},\n",
       "  1: {'prob': 2.508269662393789e-09, 'prev': 1}},\n",
       " {0: {'prob': 1.988673299893643e-10, 'prev': 0},\n",
       "  1: {'prob': 2.027042942278434e-10, 'prev': 0}},\n",
       " {0: {'prob': 1.746059699031947e-11, 'prev': 0},\n",
       "  1: {'prob': 3.051334761322149e-11, 'prev': 1}},\n",
       " {0: {'prob': 9.058780193052532e-13, 'prev': 0},\n",
       "  1: {'prob': 2.8558696457129146e-12, 'prev': 1}},\n",
       " {0: {'prob': 4.1585448275922645e-14, 'prev': 0},\n",
       "  1: {'prob': 2.9176453821332393e-13, 'prev': 1}},\n",
       " {0: {'prob': 3.923788629922118e-15, 'prev': 0},\n",
       "  1: {'prob': 1.889022928335266e-14, 'prev': 1}},\n",
       " {0: {'prob': 3.4450953782067673e-16, 'prev': 0},\n",
       "  1: {'prob': 2.8435713945384232e-15, 'prev': 1}},\n",
       " {0: {'prob': 3.024801609962666e-17, 'prev': 0},\n",
       "  1: {'prob': 4.2804659247640946e-16, 'prev': 1}},\n",
       " {0: {'prob': 4.079146349044539e-19, 'prev': 0},\n",
       "  1: {'prob': 9.20426192766023e-18, 'prev': 1}},\n",
       " {0: {'prob': 1.7094164956267003e-20, 'prev': 1},\n",
       "  1: {'prob': 3.633610185962205e-19, 'prev': 1}},\n",
       " {0: {'prob': 7.998693626492181e-22, 'prev': 1},\n",
       "  1: {'prob': 3.712209342418512e-20, 'prev': 1}},\n",
       " {0: {'prob': 1.5629215069787806e-22, 'prev': 1},\n",
       "  1: {'prob': 5.588038206578132e-21, 'prev': 1}},\n",
       " {0: {'prob': 1.3902056931062008e-23, 'prev': 1},\n",
       "  1: {'prob': 5.230074685851769e-22, 'prev': 1}},\n",
       " {0: {'prob': 1.2685582076294605e-24, 'prev': 1},\n",
       "  1: {'prob': 3.804076342170068e-23, 'prev': 1}},\n",
       " {0: {'prob': 9.226813298408922e-26, 'prev': 1},\n",
       "  1: {'prob': 2.7668814856897714e-24, 'prev': 1}},\n",
       " {0: {'prob': 6.711090049449506e-27, 'prev': 1},\n",
       "  1: {'prob': 2.012481471779721e-25, 'prev': 1}},\n",
       " {0: {'prob': 6.810622985675997e-28, 'prev': 1},\n",
       "  1: {'prob': 1.765504147822746e-27, 'prev': 1}},\n",
       " {0: {'prob': 3.444929084642904e-29, 'prev': 0},\n",
       "  1: {'prob': 1.2841332034710419e-28, 'prev': 1}},\n",
       " {0: {'prob': 2.15448434484525e-30, 'prev': 0},\n",
       "  1: {'prob': 1.1664792931035517e-30, 'prev': 1}},\n",
       " {0: {'prob': 1.1177739295023278e-31, 'prev': 0},\n",
       "  1: {'prob': 2.0164704707592134e-31, 'prev': 0}},\n",
       " {0: {'prob': 1.3364167095209549e-33, 'prev': 0},\n",
       "  1: {'prob': 5.099401592131155e-33, 'prev': 1}},\n",
       " {0: {'prob': 1.8022469055455854e-35, 'prev': 0},\n",
       "  1: {'prob': 1.096521471103394e-34, 'prev': 1}},\n",
       " {0: {'prob': 8.8883180269011e-37, 'prev': 0},\n",
       "  1: {'prob': 6.209185154821718e-37, 'prev': 1}},\n",
       " {0: {'prob': 4.080292066818483e-38, 'prev': 0},\n",
       "  1: {'prob': 9.080582541660768e-38, 'prev': 0}},\n",
       " {0: {'prob': 3.582505753223793e-39, 'prev': 0},\n",
       "  1: {'prob': 1.366912194335673e-38, 'prev': 1}},\n",
       " {0: {'prob': 1.812092416675772e-40, 'prev': 0},\n",
       "  1: {'prob': 9.94218754535675e-40, 'prev': 1}},\n",
       " {0: {'prob': 1.0489512513843477e-41, 'prev': 0},\n",
       "  1: {'prob': 1.2194882501957642e-40, 'prev': 1}},\n",
       " {0: {'prob': 5.442092744472844e-43, 'prev': 0},\n",
       "  1: {'prob': 1.1413691874072117e-41, 'prev': 1}},\n",
       " {0: {'prob': 3.862612069677103e-44, 'prev': 1},\n",
       "  1: {'prob': 1.0012971859971858e-43, 'prev': 1}},\n",
       " {0: {'prob': 3.644561727515174e-45, 'prev': 0},\n",
       "  1: {'prob': 6.482876068521092e-45, 'prev': 1}},\n",
       " {0: {'prob': 1.5575572155025363e-46, 'prev': 0},\n",
       "  1: {'prob': 1.7812726211587347e-46, 'prev': 1}},\n",
       " {0: {'prob': 9.131970737340146e-48, 'prev': 0},\n",
       "  1: {'prob': 3.5513488097373864e-48, 'prev': 1}},\n",
       " {0: {'prob': 5.533597143764078e-49, 'prev': 0},\n",
       "  1: {'prob': 4.553104365312553e-49, 'prev': 0}}]"
      ]
     },
     "execution_count": 51,
     "metadata": {},
     "output_type": "execute_result"
    }
   ],
   "source": [
    "# Displaying Answers\n",
    "path_mat"
   ]
  },
  {
   "cell_type": "markdown",
   "metadata": {
    "pycharm": {
     "name": "#%% md\n"
    }
   },
   "source": [
    "## Problem 2\n",
    "How many transmembrane amino acid segments (i.e., segments of all T’s) does the average integral\n",
    "membrane protein have? Show your calculation."
   ]
  },
  {
   "cell_type": "code",
   "execution_count": 11,
   "metadata": {
    "pycharm": {
     "name": "#%%\n"
    }
   },
   "outputs": [
    {
     "name": "stdout",
     "output_type": "stream",
     "text": [
      "The average number of Transmembrane segments of an intergral protien is 100.0327\n",
      "The average length of a transmembrane protien is 221438.9200 segments.\n",
      "The ratio of the two is 0.0005 giving the percent composistion\n"
     ]
    }
   ],
   "source": [
    "# Problem 2 Code:\n",
    "\n",
    "# load data\n",
    "state_seq = open('state_sequences.txt')\n",
    "\n",
    "# Intialize variables\n",
    "counts=[]\n",
    "num_protiens=0\n",
    "\n",
    "c=0\n",
    "len_protien=[]\n",
    "\n",
    "# Loop through and Count T's for each protien (line seperated)\n",
    "for line in state_seq.readlines():\n",
    "    # count total number of protiens\n",
    "    num_protiens+=1\n",
    "    \n",
    "    # Clean Line\n",
    "    line=line.strip('\\r\\n')\n",
    "    # Loop throughl line + count T's\n",
    "    temp_count=0\n",
    "    for state in line:\n",
    "        c+=1\n",
    "        if state=='T':\n",
    "            temp_count+=1\n",
    "    # After iteration save data\n",
    "    counts.append(temp_count)\n",
    "    len_protien.append(c)\n",
    "\n",
    "# Display result \n",
    "A=sum(counts)/num_protiens\n",
    "B=sum(len_protien)/num_protiens\n",
    "C=A/B\n",
    "print('The average number of Transmembrane segments of an intergral protien is %.4f\\nThe average length of a transmembrane \\\n",
    "protien is %.4f segments.\\nThe ratio of the two is %.4F giving the percent composistion'%(A,B,C))"
   ]
  },
  {
   "cell_type": "markdown",
   "metadata": {
    "pycharm": {
     "name": "#%% md\n"
    }
   },
   "source": [
    "## Problem 2 Answer\n",
    "\n",
    "By looping through and counting all the T (transmembrane) sections for each intergral protien we can get the average number, which was found to be ~100!"
   ]
  },
  {
   "cell_type": "markdown",
   "metadata": {},
   "source": [
    "## Problem 3\n",
    "Draw a reasonable alternate architecture for the transmembrane sequence predicting HMM. Write\n",
    "why you might prefer one of the two HMM architectures over the other."
   ]
  },
  {
   "cell_type": "code",
   "execution_count": null,
   "metadata": {},
   "outputs": [],
   "source": []
  },
  {
   "cell_type": "markdown",
   "metadata": {
    "pycharm": {
     "name": "#%% md\n"
    }
   },
   "source": [
    "## Problem 3 Answer\n",
    "\n",
    "THis"
   ]
  },
  {
   "cell_type": "markdown",
   "metadata": {},
   "source": [
    "## Problem 4\n",
    "Draw a reasonable architecture for an HMM that would identify protein secondary structures (e.g.,\n",
    "alpha helix, beta strand, random coil) within protein sequences."
   ]
  },
  {
   "cell_type": "code",
   "execution_count": null,
   "metadata": {},
   "outputs": [],
   "source": []
  },
  {
   "cell_type": "markdown",
   "metadata": {
    "pycharm": {
     "name": "#%% md\n"
    }
   },
   "source": [
    "## Problem 4 Answer\n",
    "\n",
    "THis"
   ]
  },
  {
   "cell_type": "markdown",
   "metadata": {},
   "source": [
    "## Problem 5\n",
    "Suggest an application (ANY application!) of HMM’s to a biological problem other than the\n",
    "applications we have discussed (i.e., not gene finding, CpG islands, protein secondary structure or\n",
    "transmembrane segment prediction, sequence alignment). Draw a potential HMM architecture that\n",
    "could be applied to that problem."
   ]
  },
  {
   "cell_type": "code",
   "execution_count": null,
   "metadata": {},
   "outputs": [],
   "source": []
  },
  {
   "cell_type": "markdown",
   "metadata": {
    "pycharm": {
     "name": "#%% md\n"
    }
   },
   "source": [
    "## Problem 5 Answer\n",
    "This"
   ]
  }
 ],
 "metadata": {
  "kernelspec": {
   "display_name": "Python 3",
   "language": "python",
   "name": "python3"
  },
  "language_info": {
   "codemirror_mode": {
    "name": "ipython",
    "version": 3
   },
   "file_extension": ".py",
   "mimetype": "text/x-python",
   "name": "python",
   "nbconvert_exporter": "python",
   "pygments_lexer": "ipython3",
   "version": "3.8.5"
  }
 },
 "nbformat": 4,
 "nbformat_minor": 1
}
