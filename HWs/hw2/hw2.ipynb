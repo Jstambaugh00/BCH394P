{
 "cells": [
  {
   "cell_type": "markdown",
   "metadata": {
    "collapsed": true,
    "pycharm": {
     "name": "#%% md\n"
    }
   },
   "source": [
    "# HW 2 BCH394P\n",
    "## Jacob Stambaugh, JS88749\n",
    "02/25/21 | Due: 03/09/21"
   ]
  },
  {
   "cell_type": "markdown",
   "source": [
    "# Problem 1: Hidden Markov Model for finding transmembrane protein sequences\n",
    "Proteins in a cell are often synthesized by a ribosome at one location in a cell (for example, in the\n",
    "cytosol or attached to the endoplasmic reticulum), then shipped someplace else in the cell where the\n",
    "proteins actually do their work. About a fourth to a third of the proteins get attached to membranes,\n",
    "often with a portion of the protein on one side of a membrane, a portion penetrating the membrane, and\n",
    "a portion on the other side of the membrane:\n",
    "\n",
    "( pic 1)\n",
    "\n",
    "In this problem, we’ll train a hidden Markov model to detect the regions of these so-called “integral\n",
    "membrane proteins” that end up buried in the membrane. The reason we can do this is because the\n",
    "amino acids in these regions tend to be much greasier in character than the amino acids in the nonmembrane-associated part of the protein.\n",
    "We’ll construct a very simple hidden Markov model of the following architecture:\n",
    "\n",
    "(pic2)"
   ],
   "metadata": {
    "collapsed": false,
    "pycharm": {
     "name": "#%% md\n"
    }
   }
  },
  {
   "cell_type": "markdown",
   "source": [
    "## Part 1, Problem 1\n",
    "Calculate the frequencies of amino acids in the first two files (remember your programs from the first\n",
    "problem set?). Use these frequencies to generate the emission probability tables of the S and T states of\n",
    "the HMM."
   ],
   "metadata": {
    "collapsed": false,
    "pycharm": {
     "name": "#%% md\n"
    }
   }
  },
  {
   "cell_type": "code",
   "execution_count": null,
   "outputs": [],
   "source": [
    "# Part 1 code"
   ],
   "metadata": {
    "collapsed": false,
    "pycharm": {
     "name": "#%%\n"
    }
   }
  },
  {
   "cell_type": "markdown",
   "source": [
    "## Explanation for Problem 1: part 1"
   ],
   "metadata": {
    "collapsed": false,
    "pycharm": {
     "name": "#%% md\n"
    }
   }
  },
  {
   "cell_type": "markdown",
   "source": [
    "## Part 2, Problem 1\n",
    "Calculate the frequencies of beginning a sequence in each of the 2 states in the third file. Use these to\n",
    "calculate the transition probabilities from the beginning state of the HMM."
   ],
   "metadata": {
    "collapsed": false,
    "pycharm": {
     "name": "#%% md\n"
    }
   }
  },
  {
   "cell_type": "code",
   "execution_count": null,
   "outputs": [],
   "source": [
    "# Part 2 Code"
   ],
   "metadata": {
    "collapsed": false,
    "pycharm": {
     "name": "#%%\n"
    }
   }
  },
  {
   "cell_type": "markdown",
   "source": [
    "## Part 3, Problem 1\n",
    "Calculate the number of occurrences of each digram in the state file. (e.g., SS or TT or ST or TS. A\n",
    "digram is a 2 character string. In general, a string of n characters is an n-gram.) You can use your other\n",
    "program from problem set#1 for this. From the numbers of observations, you should be able to\n",
    "construct the transition probability matrix for the HMM."
   ],
   "metadata": {
    "collapsed": false,
    "pycharm": {
     "name": "#%% md\n"
    }
   }
  },
  {
   "cell_type": "code",
   "execution_count": null,
   "outputs": [],
   "source": [
    "# Part 3 Code"
   ],
   "metadata": {
    "collapsed": false,
    "pycharm": {
     "name": "#%%\n"
    }
   }
  },
  {
   "cell_type": "markdown",
   "source": [
    "## Part 4, Problem 1\n",
    "Now, take the amino acid sequence KNSFFFFFFFLIII and calculate the most likely state sequence\n",
    "using the Viterbi algorithm."
   ],
   "metadata": {
    "collapsed": false
   }
  },
  {
   "cell_type": "code",
   "execution_count": null,
   "outputs": [],
   "source": [
    "# Part 4 Code"
   ],
   "metadata": {
    "collapsed": false,
    "pycharm": {
     "name": "#%%\n"
    }
   }
  },
  {
   "cell_type": "markdown",
   "source": [
    "## Wrapping Up Problem 1\n",
    "Turn in the transition probability matrix, emission probability matrix, the Viterbi matrix, and the most\n",
    "likely state sequence."
   ],
   "metadata": {
    "collapsed": false,
    "pycharm": {
     "name": "#%% md\n"
    }
   }
  },
  {
   "cell_type": "markdown",
   "source": [
    "## Problem 2\n",
    "How many transmembrane amino acid segments (i.e., segments of all T’s) does the average integral\n",
    "membrane protein have? Show your calculation."
   ],
   "metadata": {
    "collapsed": false,
    "pycharm": {
     "name": "#%% md\n"
    }
   }
  },
  {
   "cell_type": "code",
   "execution_count": null,
   "outputs": [],
   "source": [
    "# Problem 2 Code:"
   ],
   "metadata": {
    "collapsed": false,
    "pycharm": {
     "name": "#%%\n"
    }
   }
  },
  {
   "cell_type": "markdown",
   "source": [
    "## Problem 2 Explanation"
   ],
   "metadata": {
    "collapsed": false,
    "pycharm": {
     "name": "#%% md\n"
    }
   }
  },
  {
   "cell_type": "markdown",
   "source": [
    "## Problem 3\n",
    "Draw a reasonable alternate architecture for the transmembrane sequence predicting HMM. Write\n",
    "why you might prefer one of the two HMM architectures over the other."
   ],
   "metadata": {
    "collapsed": false
   }
  },
  {
   "cell_type": "code",
   "execution_count": null,
   "outputs": [],
   "source": [
    "# Problem 3 Code:"
   ],
   "metadata": {
    "collapsed": false,
    "pycharm": {
     "name": "#%%\n"
    }
   }
  },
  {
   "cell_type": "markdown",
   "source": [
    "## Problem 3 Explanation\n"
   ],
   "metadata": {
    "collapsed": false,
    "pycharm": {
     "name": "#%% md\n"
    }
   }
  },
  {
   "cell_type": "markdown",
   "source": [
    "## Problem 4\n",
    "Draw a reasonable architecture for an HMM that would identify protein secondary structures (e.g.,\n",
    "alpha helix, beta strand, random coil) within protein sequences."
   ],
   "metadata": {
    "collapsed": false
   }
  },
  {
   "cell_type": "code",
   "execution_count": null,
   "outputs": [],
   "source": [
    "# Problem 4 Code:"
   ],
   "metadata": {
    "collapsed": false,
    "pycharm": {
     "name": "#%%\n"
    }
   }
  },
  {
   "cell_type": "markdown",
   "source": [
    "## Problem 4 Explanation\n"
   ],
   "metadata": {
    "collapsed": false,
    "pycharm": {
     "name": "#%% md\n"
    }
   }
  },
  {
   "cell_type": "markdown",
   "source": [
    "## Problem 5\n",
    "Suggest an application (ANY application!) of HMM’s to a biological problem other than the\n",
    "applications we have discussed (i.e., not gene finding, CpG islands, protein secondary structure or\n",
    "transmembrane segment prediction, sequence alignment). Draw a potential HMM architecture that\n",
    "could be applied to that problem."
   ],
   "metadata": {
    "collapsed": false
   }
  },
  {
   "cell_type": "markdown",
   "source": [
    "## Problem 5 Explanation"
   ],
   "metadata": {
    "collapsed": false,
    "pycharm": {
     "name": "#%% md\n"
    }
   }
  }
 ],
 "metadata": {
  "kernelspec": {
   "display_name": "Python 3",
   "language": "python",
   "name": "python3"
  },
  "language_info": {
   "codemirror_mode": {
    "name": "ipython",
    "version": 2
   },
   "file_extension": ".py",
   "mimetype": "text/x-python",
   "name": "python",
   "nbconvert_exporter": "python",
   "pygments_lexer": "ipython2",
   "version": "2.7.6"
  }
 },
 "nbformat": 4,
 "nbformat_minor": 0
}