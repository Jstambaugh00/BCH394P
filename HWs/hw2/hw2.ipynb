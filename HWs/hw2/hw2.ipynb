{
 "cells": [
  {
   "cell_type": "markdown",
   "metadata": {
    "collapsed": true,
    "pycharm": {
     "name": "#%% md\n"
    }
   },
   "source": [
    "# HW 2 BCH394P\n",
    "## Jacob Stambaugh, JS88749\n",
    "02/25/21 | Due: 03/09/21"
   ]
  },
  {
   "cell_type": "markdown",
   "metadata": {
    "pycharm": {
     "name": "#%% md\n"
    }
   },
   "source": [
    "# Problem 1: Hidden Markov Model for finding transmembrane protein sequences\n",
    "Proteins in a cell are often synthesized by a ribosome at one location in a cell (for example, in the\n",
    "cytosol or attached to the endoplasmic reticulum), then shipped someplace else in the cell where the\n",
    "proteins actually do their work. About a fourth to a third of the proteins get attached to membranes,\n",
    "often with a portion of the protein on one side of a membrane, a portion penetrating the membrane, and\n",
    "a portion on the other side of the membrane:\n",
    "\n",
    "( pic 1)\n",
    "\n",
    "In this problem, we’ll train a hidden Markov model to detect the regions of these so-called “integral\n",
    "membrane proteins” that end up buried in the membrane. The reason we can do this is because the\n",
    "amino acids in these regions tend to be much greasier in character than the amino acids in the nonmembrane-associated part of the protein.\n",
    "We’ll construct a very simple hidden Markov model of the following architecture:\n",
    "\n",
    "(pic2)"
   ]
  },
  {
   "cell_type": "markdown",
   "metadata": {
    "pycharm": {
     "name": "#%% md\n"
    }
   },
   "source": [
    "## Part 1, Problem 1\n",
    "Calculate the frequencies of amino acids in the first two files (remember your programs from the first\n",
    "problem set?). Use these frequencies to generate the emission probability tables of the S and T states of\n",
    "the HMM."
   ]
  },
  {
   "cell_type": "code",
   "execution_count": 12,
   "metadata": {},
   "outputs": [],
   "source": [
    "# From Before: find freq of each base\n",
    "def calc_freq_single(txt):\n",
    "    # Define dictionary\n",
    "    aa_emission={}\n",
    "    le=0\n",
    "    \n",
    "    # Loop through each line in text file \n",
    "    for line in txt.readlines():\n",
    "        line=line.strip('\\r \\n')\n",
    "        # loop through each line to update dict nucleotides\n",
    "        for ammino in line:\n",
    "            le+=1\n",
    "            if aa_emission.get(ammino)!=None:\n",
    "                aa_emission.update({ammino:aa_emission.get(ammino)+1})\n",
    "            else:\n",
    "                aa_emission.update({ammino:1})\n",
    "                \n",
    "    for i in aa_emission.keys():\n",
    "        aa_emission.update({i:aa_emission.get(i)/le})\n",
    "    \n",
    "    return aa_emission\n"
   ]
  },
  {
   "cell_type": "code",
   "execution_count": 2,
   "metadata": {
    "pycharm": {
     "name": "#%%\n"
    }
   },
   "outputs": [
    {
     "name": "stdout",
     "output_type": "stream",
     "text": [
      "Emission probabilities for Transmembrane protiens:\n",
      "Ammino Acid: W and its probability 0.0226\n",
      "Ammino Acid: L and its probability 0.158\n",
      "Ammino Acid: N and its probability 0.0209\n",
      "Ammino Acid: M and its probability 0.0316\n",
      "Ammino Acid: V and its probability 0.0982\n",
      "Ammino Acid: C and its probability 0.0265\n",
      "Ammino Acid: G and its probability 0.0763\n",
      "Ammino Acid: P and its probability 0.0288\n",
      "Ammino Acid: I and its probability 0.1288\n",
      "Ammino Acid: Y and its probability 0.0414\n",
      "Ammino Acid: F and its probability 0.1072\n",
      "Ammino Acid: A and its probability 0.0837\n",
      "Ammino Acid: S and its probability 0.068\n",
      "Ammino Acid: T and its probability 0.0523\n",
      "Ammino Acid: R and its probability 0.0059\n",
      "Ammino Acid: Q and its probability 0.0139\n",
      "Ammino Acid: H and its probability 0.0077\n",
      "Ammino Acid: E and its probability 0.0095\n",
      "Ammino Acid: D and its probability 0.0091\n",
      "Ammino Acid: K and its probability 0.0092\n"
     ]
    }
   ],
   "source": [
    "# Calc frequencies - Transmembrane\n",
    "trans_mem = open('transmembrane_sequences.txt')\n",
    "transmem_freq=calc_freq_single(trans_mem)\n",
    "\n",
    "# Display Results\n",
    "print('Emission probabilities for Transmembrane protiens:')\n",
    "for i in transmem_freq.keys():\n",
    "    print('Ammino Acid:',i,'and it''s probability',round(transmem_freq.get(i),4))"
   ]
  },
  {
   "cell_type": "code",
   "execution_count": 3,
   "metadata": {},
   "outputs": [
    {
     "name": "stdout",
     "output_type": "stream",
     "text": [
      "Emission probabilities for Soluble protiens:\n",
      "Ammino Acid: M and its probability 0.0213\n",
      "Ammino Acid: P and its probability 0.0433\n",
      "Ammino Acid: T and its probability 0.0614\n",
      "Ammino Acid: S and its probability 0.0956\n",
      "Ammino Acid: G and its probability 0.0512\n",
      "Ammino Acid: I and its probability 0.0586\n",
      "Ammino Acid: E and its probability 0.0634\n",
      "Ammino Acid: L and its probability 0.0889\n",
      "Ammino Acid: D and its probability 0.0581\n",
      "Ammino Acid: Q and its probability 0.0371\n",
      "Ammino Acid: F and its probability 0.0465\n",
      "Ammino Acid: K and its probability 0.0715\n",
      "Ammino Acid: A and its probability 0.0536\n",
      "Ammino Acid: V and its probability 0.0526\n",
      "Ammino Acid: N and its probability 0.0594\n",
      "Ammino Acid: R and its probability 0.05\n",
      "Ammino Acid: H and its probability 0.0227\n",
      "Ammino Acid: W and its probability 0.0137\n",
      "Ammino Acid: Y and its probability 0.0392\n",
      "Ammino Acid: C and its probability 0.0121\n"
     ]
    }
   ],
   "source": [
    "# Calc frequencies - soluble\n",
    "soluble = open('soluble_sequences.txt')\n",
    "soluble_freq=calc_freq_single(soluble)\n",
    "\n",
    "# Display Results\n",
    "print('Emission probabilities for Soluble protiens:')\n",
    "for i in soluble_freq.keys():\n",
    "    print('Ammino Acid:',i,'and it''s probability',round(soluble_freq.get(i),4))"
   ]
  },
  {
   "cell_type": "markdown",
   "metadata": {
    "pycharm": {
     "name": "#%% md\n"
    }
   },
   "source": [
    "## Explanation for Problem 1: part 1\n",
    "\n",
    "Looking"
   ]
  },
  {
   "cell_type": "markdown",
   "metadata": {
    "pycharm": {
     "name": "#%% md\n"
    }
   },
   "source": [
    "## Part 2, Problem 1\n",
    "Calculate the frequencies of beginning a sequence in each of the 2 states in the third file. Use these to\n",
    "calculate the transition probabilities from the beginning state of the HMM."
   ]
  },
  {
   "cell_type": "code",
   "execution_count": 4,
   "metadata": {
    "pycharm": {
     "name": "#%%\n"
    }
   },
   "outputs": [],
   "source": [
    "# Part 2: Calculate freq of beginning in each state\n",
    "\n",
    "# load data\n",
    "state_dict={'S':0,'T':0}\n",
    "state_seq = open('state_sequences.txt')\n",
    "\n",
    "num_line=0\n",
    "\n",
    "# loop and count S&T's in the begining of each line\n",
    "for line in state_seq.readlines():\n",
    "    line=line.strip('\\r\\n')\n",
    "    state_dict.update({line[0]:state_dict.get(line[0])+1})\n",
    "    num_line+=1\n",
    "    \n",
    "# Divide dict by length to find probability\n",
    "for key in state_dict.keys():\n",
    "    state_dict.update({key:state_dict.get(key)/num_line})"
   ]
  },
  {
   "cell_type": "code",
   "execution_count": 5,
   "metadata": {},
   "outputs": [
    {
     "name": "stdout",
     "output_type": "stream",
     "text": [
      "Domain S occurs at the beginning of read 98.536 % of the time!\n",
      "Domain T occurs at the beginning of read 1.464 % of the time!\n"
     ]
    }
   ],
   "source": [
    "# Print Results\n",
    "for key in state_dict.keys():\n",
    "    print('Domain %s occurs at the beginning of read %.3f %% of the time!'%(key,state_dict.get(key)*100))"
   ]
  },
  {
   "cell_type": "markdown",
   "metadata": {
    "pycharm": {
     "name": "#%% md\n"
    }
   },
   "source": [
    "## Part 3, Problem 1\n",
    "Calculate the number of occurrences of each digram in the state file. (e.g., SS or TT or ST or TS. A\n",
    "digram is a 2 character string. In general, a string of n characters is an n-gram.) You can use your other\n",
    "program from problem set#1 for this. From the numbers of observations, you should be able to\n",
    "construct the transition probability matrix for the HMM."
   ]
  },
  {
   "cell_type": "code",
   "execution_count": 13,
   "metadata": {
    "pycharm": {
     "name": "#%%\n"
    }
   },
   "outputs": [],
   "source": [
    "# From Before: Calc frequencies function\n",
    "\n",
    "def calc_freq(txt):\n",
    "    # Define dict for di-nucleotides\n",
    "    difreq_dict={}\n",
    "    prev_base=-1\n",
    "    \n",
    "    # Loop through each line in text file\n",
    "    for line in txt.readlines():\n",
    "        # SKip emtpy lines\n",
    "        if not line.strip():\n",
    "            continue\n",
    "        # get new line\n",
    "        line=line.strip('\\r\\n')\n",
    "        \n",
    "        # loop through each line to count dinucleotides\n",
    "        for i in range(0,len(line)-1):\n",
    "                \n",
    "            base=line[i:i+2]# gets di-pair\n",
    "            \n",
    "            # update dictionary\n",
    "            if difreq_dict.get(base)!=None:\n",
    "                difreq_dict.update({base:difreq_dict.get(base)+1})\n",
    "            else:\n",
    "                # add new pair\n",
    "                difreq_dict.update({base:1})\n",
    "               \n",
    "            # attach(save) last base pair to new line\n",
    "            #if i == len(line)-2:\n",
    "                #prev_base=line[len(line)-1]\n",
    "                    \n",
    "    # divide by total length\n",
    "    le=0\n",
    "    for i in difreq_dict.keys():\n",
    "        le+=difreq_dict.get(i)\n",
    "  \n",
    "    for i in difreq_dict.keys():\n",
    "        difreq_dict.update({i:difreq_dict.get(i)})\n",
    "        \n",
    "    return difreq_dict"
   ]
  },
  {
   "cell_type": "code",
   "execution_count": 14,
   "metadata": {
    "pycharm": {
     "name": "#%%\n"
    }
   },
   "outputs": [
    {
     "data": {
      "text/plain": [
       "array([[0.98721407, 0.01278593],\n",
       "       [0.95266086, 0.04733914]])"
      ]
     },
     "execution_count": 14,
     "metadata": {},
     "output_type": "execute_result"
    }
   ],
   "source": [
    "# Part 3: Calculate freq of each digram\n",
    "import numpy as np\n",
    "\n",
    "# load data\n",
    "state_seq = open('state_sequences.txt')\n",
    "\n",
    "# get freq \n",
    "state_seq=calc_freq(state_seq)\n",
    "\n",
    "# transform into transistion probs\n",
    "transistion_matrix=np.empty([2,2])\n",
    "\n",
    "s_state_total=state_seq.get('SS')+state_seq.get('ST')\n",
    "t_state_total=state_seq.get('TT')+state_seq.get('TS')\n",
    "\n",
    "# add to matrix: SS,ST,TT,TS\n",
    "transistion_matrix[0,0]=(state_seq.get('SS')/s_state_total)\n",
    "transistion_matrix[0,1]=(state_seq.get('ST')/s_state_total)\n",
    "transistion_matrix[1,0]=(state_seq.get('TT')/t_state_total)\n",
    "transistion_matrix[1,1]=(state_seq.get('TS')/t_state_total)\n",
    "\n",
    "# Check matrix\n",
    "transistion_matrix"
   ]
  },
  {
   "cell_type": "markdown",
   "metadata": {},
   "source": [
    "## Part 4, Problem 1\n",
    "Now, take the amino acid sequence KNSFFFFFFFLIII and calculate the most likely state sequence\n",
    "using the Viterbi algorithm."
   ]
  },
  {
   "cell_type": "code",
   "execution_count": 108,
   "metadata": {
    "pycharm": {
     "name": "#%%\n"
    }
   },
   "outputs": [],
   "source": [
    "# Part 4: Viterbi Algo\n",
    "\n",
    "# put emission probs into list for east access\n",
    "emission=[soluble_freq,transmem_freq]\n",
    "\n",
    "seq='KNSFFFFFFFLIII'\n",
    "\n",
    "# Intialize path matrix\n",
    "path_mat=np.zeros([2,len(seq)]) # \n",
    "path_mat[0,0]=1 # begining probability\n",
    "\n",
    "# intialize pointer matrix\n",
    "pointer_mat=np.zeros([2,len(seq)])#\n",
    "\n",
    "# get variables \n",
    "b_s=state_dict.get('S')\n",
    "b_t=state_dict.get('T')\n",
    "\n",
    "# solve first column\n",
    "path_mat[0,0]=1*b_s*soluble_freq.get(seq[0])\n",
    "\n",
    "path_mat[1,0]=1*b_t*transmem_freq.get(seq[0])\n",
    "\n",
    "# Iterate throguh and solve \n",
    "\n",
    "# outer loop - goes through input sequence\n",
    "for aa in range(1,len(seq)):\n",
    "    \n",
    "    # inner loop - solves for both S + T states\n",
    "    for state in range(0,2):\n",
    "        temp_list=[]\n",
    "        # Get emission prob per state\n",
    "        emi=emission[state].get(seq[aa])\n",
    "            # inner inner loop - goes through every previous value\n",
    "        for prev_state in range (0,2):\n",
    "            # prev state probability \n",
    "            prev_state_prob=path_mat[prev_state,aa-1]\n",
    "            \n",
    "            # gett transmission prob (per state)\n",
    "            trans=transistion_matrix[prev_state,state]\n",
    "            \n",
    "            # calculate\n",
    "            temp_list.append(prev_state_prob*emi*trans)\n",
    "    \n",
    "    \n",
    "        # select max probability and update matrix\n",
    "        indx=temp_list.index(max(temp_list))\n",
    "        path_mat[state,aa]=temp_list[indx]\n",
    "        #path_mat[state,aa]=sum(temp_list)\n",
    "        \n",
    "        # update pointer\n",
    "    \n",
    "# back track to get path\n",
    "    "
   ]
  },
  {
   "cell_type": "code",
   "execution_count": 99,
   "metadata": {},
   "outputs": [
    {
     "data": {
      "text/plain": [
       "array([[7.04416691e-02, 4.13762824e-03, 3.92133682e-04, 1.81633614e-05,\n",
       "        8.58452697e-07, 4.06366978e-08, 1.92385760e-09, 9.10817716e-11,\n",
       "        4.31211492e-12, 2.04149917e-13, 1.84855369e-14, 1.09586401e-15,\n",
       "        6.52925863e-17, 3.89163269e-18],\n",
       "       [1.34812113e-04, 1.89824857e-05, 3.65649669e-06, 5.56240770e-07,\n",
       "        2.77287096e-08, 1.31784471e-09, 6.24096395e-11, 2.95474793e-12,\n",
       "        1.39887877e-13, 6.62276006e-15, 4.61987995e-16, 3.32472324e-17,\n",
       "        2.00668464e-18, 1.19717273e-19]])"
      ]
     },
     "execution_count": 99,
     "metadata": {},
     "output_type": "execute_result"
    }
   ],
   "source": [
    "#len(soluble_freq.keys())\n",
    "#len(transmem_freq.keys())\n",
    "# Intialize path matrix\n",
    "path_mat\n"
   ]
  },
  {
   "cell_type": "code",
   "execution_count": 107,
   "metadata": {},
   "outputs": [
    {
     "data": {
      "text/plain": [
       "[[], [0, 0], [0, 0]]"
      ]
     },
     "execution_count": 107,
     "metadata": {},
     "output_type": "execute_result"
    }
   ],
   "source": [
    "pointer_mat"
   ]
  },
  {
   "cell_type": "code",
   "execution_count": 97,
   "metadata": {},
   "outputs": [
    {
     "data": {
      "text/plain": [
       "6"
      ]
     },
     "execution_count": 97,
     "metadata": {},
     "output_type": "execute_result"
    }
   ],
   "source": [
    "a=[1,2,3]\n",
    "sum(a)"
   ]
  },
  {
   "cell_type": "markdown",
   "metadata": {
    "pycharm": {
     "name": "#%% md\n"
    }
   },
   "source": [
    "## Wrapping Up Problem 1\n",
    "Turn in the transition probability matrix, emission probability matrix, the Viterbi matrix, and the most\n",
    "likely state sequence."
   ]
  },
  {
   "cell_type": "markdown",
   "metadata": {
    "pycharm": {
     "name": "#%% md\n"
    }
   },
   "source": [
    "## Problem 2\n",
    "How many transmembrane amino acid segments (i.e., segments of all T’s) does the average integral\n",
    "membrane protein have? Show your calculation."
   ]
  },
  {
   "cell_type": "code",
   "execution_count": 9,
   "metadata": {
    "pycharm": {
     "name": "#%%\n"
    }
   },
   "outputs": [],
   "source": [
    "# Problem 2 Code:"
   ]
  },
  {
   "cell_type": "markdown",
   "metadata": {
    "pycharm": {
     "name": "#%% md\n"
    }
   },
   "source": [
    "## Problem 2 Explanation\n",
    "\n",
    "In"
   ]
  },
  {
   "cell_type": "markdown",
   "metadata": {},
   "source": [
    "## Problem 3\n",
    "Draw a reasonable alternate architecture for the transmembrane sequence predicting HMM. Write\n",
    "why you might prefer one of the two HMM architectures over the other."
   ]
  },
  {
   "cell_type": "code",
   "execution_count": 10,
   "metadata": {
    "pycharm": {
     "name": "#%%\n"
    }
   },
   "outputs": [],
   "source": [
    "# Problem 3 Code:"
   ]
  },
  {
   "cell_type": "markdown",
   "metadata": {
    "pycharm": {
     "name": "#%% md\n"
    }
   },
   "source": [
    "## Problem 3 Explanation\n",
    "\n",
    "THis"
   ]
  },
  {
   "cell_type": "markdown",
   "metadata": {},
   "source": [
    "## Problem 4\n",
    "Draw a reasonable architecture for an HMM that would identify protein secondary structures (e.g.,\n",
    "alpha helix, beta strand, random coil) within protein sequences."
   ]
  },
  {
   "cell_type": "code",
   "execution_count": 11,
   "metadata": {
    "pycharm": {
     "name": "#%%\n"
    }
   },
   "outputs": [],
   "source": [
    "# Problem 4 Code:"
   ]
  },
  {
   "cell_type": "markdown",
   "metadata": {
    "pycharm": {
     "name": "#%% md\n"
    }
   },
   "source": [
    "## Problem 4 Explanation\n",
    "\n",
    "THis"
   ]
  },
  {
   "cell_type": "markdown",
   "metadata": {},
   "source": [
    "## Problem 5\n",
    "Suggest an application (ANY application!) of HMM’s to a biological problem other than the\n",
    "applications we have discussed (i.e., not gene finding, CpG islands, protein secondary structure or\n",
    "transmembrane segment prediction, sequence alignment). Draw a potential HMM architecture that\n",
    "could be applied to that problem."
   ]
  },
  {
   "cell_type": "markdown",
   "metadata": {
    "pycharm": {
     "name": "#%% md\n"
    }
   },
   "source": [
    "## Problem 5 Explanation\n",
    "This"
   ]
  }
 ],
 "metadata": {
  "kernelspec": {
   "display_name": "Python 3",
   "language": "python",
   "name": "python3"
  },
  "language_info": {
   "codemirror_mode": {
    "name": "ipython",
    "version": 3
   },
   "file_extension": ".py",
   "mimetype": "text/x-python",
   "name": "python",
   "nbconvert_exporter": "python",
   "pygments_lexer": "ipython3",
   "version": "3.8.5"
  }
 },
 "nbformat": 4,
 "nbformat_minor": 1
}
