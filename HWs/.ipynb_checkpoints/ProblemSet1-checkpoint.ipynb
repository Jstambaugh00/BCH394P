{
 "cells": [
  {
   "cell_type": "markdown",
   "metadata": {},
   "source": [
    "# Problem Set 1 BCH 364P\n",
    "## Jacob Stambaugh, Js88749\n",
    "### 1/30/2020, Due : 2/8/2020\n",
    "\n",
    "Original probelm: http://www.marcottelab.org/users/BCH394P_364C_2021/BCH364C-394P_ProblemSet1_Spring2021.pdf"
   ]
  },
  {
   "cell_type": "markdown",
   "metadata": {},
   "source": [
    "## Problem 1\n",
    "Write a short Python program to calculate the frequencies of nucleotides in a DNA sequence. This\n",
    "can be the program from the Python primer or a program of your own construction. Run it on the H.\n",
    "influenza genome and the T. aquaticus genome (get the nucleotide sequence files directly from the\n",
    "course web page). Turn in the nucleotide frequencies of the two genomes & your program"
   ]
  },
  {
   "cell_type": "code",
   "execution_count": 1,
   "metadata": {},
   "outputs": [],
   "source": [
    "# Helper Function\n",
    "\n",
    "def CountFreq(txt):\n",
    "    # Define dictionary\n",
    "    basepaircount={'A':0,'G':0,'C':0,'T':0}\n",
    "    # Loop through each line in text file \n",
    "    for line in txt.readlines():\n",
    "        line=line.strip('\\r \\n')\n",
    "        # loop through each line to update dict nucleotides\n",
    "        for base in line:\n",
    "            if basepaircount.get(base)!=None:\n",
    "                basepaircount.update({base:basepaircount.get(base)+1})\n",
    "    return basepaircount\n",
    "            "
   ]
  },
  {
   "cell_type": "code",
   "execution_count": 2,
   "metadata": {},
   "outputs": [
    {
     "name": "stdout",
     "output_type": "stream",
     "text": [
      "For H. Inluenza:\n",
      "The nucleotide A occurs 567623 times, or 31.02 %\n",
      "The nucleotide G occurs 347436 times, or 18.99 %\n",
      "The nucleotide C occurs 350723 times, or 19.16 %\n",
      "The nucleotide T occurs 564241 times, or 30.83 %\n",
      "\n",
      "For T. Aquatics:\n",
      "The nucleotide A occurs 346223 times, or 18.92 %\n",
      "The nucleotide G occurs 732676 times, or 40.04 %\n",
      "The nucleotide C occurs 737506 times, or 40.3 %\n",
      "The nucleotide T occurs 342558 times, or 18.72 %\n"
     ]
    }
   ],
   "source": [
    "# Calculate Frequencies of each nucleotide\n",
    "\n",
    "# Import Data \n",
    "# read in file - H. Influenza\n",
    "hinflu = open(\"Hinfluenzae.txt\", \"r\")\n",
    "# read in file - T. Aquatics\n",
    "tAquatics = open(\"TAquaticus.txt\", \"r\")\n",
    "\n",
    "\n",
    "# H. Influenza\n",
    "print('For H. Inluenza:')\n",
    "BaseFreqHinflu=CountFreq(hinflu)\n",
    "total_lengthH=sum(BaseFreqHinflu.values())\n",
    "for n in BaseFreqHinflu.keys():\n",
    "    fraction = round(100.0 * BaseFreqHinflu.get(n) / total_lengthH ,2)\n",
    "    print (\"The nucleotide {0} occurs {1} times, or {2} %\".format(n, BaseFreqHinflu.get(n), fraction))\n",
    "\n",
    "# T. Aquatics\n",
    "print('\\nFor T. Aquatics:')\n",
    "BaseFreqTaqua=CountFreq(tAquatics)\n",
    "total_lengthT=sum(BaseFreqTaqua.values())\n",
    "for n in BaseFreqTaqua.keys():\n",
    "    fraction =round( 100.0 * BaseFreqTaqua.get(n) / total_lengthH ,2)\n",
    "    print (\"The nucleotide {0} occurs {1} times, or {2} %\".format(n, BaseFreqTaqua.get(n), fraction))\n",
    "\n"
   ]
  },
  {
   "cell_type": "markdown",
   "metadata": {},
   "source": [
    "### Observation of problem 1\n",
    "\n",
    "We can see that T. Aquatics has the larger genome, as well higher frquency of G,C base pairs while H. Influenza has a higher percentage of A,T base pairs in its genome!"
   ]
  },
  {
   "cell_type": "markdown",
   "metadata": {},
   "source": [
    "## Problem 2\n",
    "Write a short Python program to calculate the frequencies of all dinucleotides in a DNA sequence.\n",
    "Again, this can be based on the program example in the Python primer or of your own construction.\n",
    "Run it on the H. influenza genome. Turn in the program and the dinucleotide frequencies of the H.\n",
    "influenza genome that are output when you run the program. "
   ]
  },
  {
   "cell_type": "code",
   "execution_count": 3,
   "metadata": {},
   "outputs": [],
   "source": [
    "# Calculate Frequencies of dinucleotide- H. Influenza\n",
    "# Helper function\n",
    "def CountDiFreq(txt):\n",
    "    # Define dict for di-nucleotides\n",
    "    dinucleotides={'AT':0,'AG':0,'AC':0,'AA':0,'TG':0,'TC':0,'TA':0,'TT':0,'CT':0,'CG':0,'CA':0,'CC':0,'GT':0,'GG':0,'GC':0,'GA':0}\n",
    "    prev_base=0\n",
    "    \n",
    "    # Loop through each line in text file \n",
    "    for line in txt.readlines():\n",
    "        # get new line\n",
    "        line=line.strip('\\r\\n')\n",
    "        \n",
    "        # add previous base to current line\n",
    "        if prev_base!=0:\n",
    "            base=prev_base+line[0]\n",
    "            dinucleotides.update({base:dinucleotides.get(base)+1})\n",
    "            \n",
    "        # loop through each line to count dinucleotides\n",
    "        for i in range(0,len(line)):\n",
    "            # attach(save) last base pair to new line\n",
    "            if i == len(line):\n",
    "                prev_base=line[i]\n",
    "                break\n",
    "                \n",
    "            # gets dinucleotide\n",
    "            base=line[i:i+2]\n",
    "            # update dictionary\n",
    "            if dinucleotides.get(base)!=None:\n",
    "                dinucleotides.update({base:dinucleotides.get(base)+1})\n",
    "            \n",
    "\n",
    "    return dinucleotides\n"
   ]
  },
  {
   "cell_type": "code",
   "execution_count": 4,
   "metadata": {},
   "outputs": [
    {
     "name": "stdout",
     "output_type": "stream",
     "text": [
      "For H. Inluenza:\n",
      "The nucleotide AT occurs 164485 times, or 9.12 %\n",
      "The nucleotide AG occurs 87133 times, or 4.83 %\n",
      "The nucleotide AC occurs 91072 times, or 5.05 %\n",
      "The nucleotide AA occurs 216785 times, or 12.02 %\n",
      "The nucleotide TG occurs 118279 times, or 6.56 %\n",
      "The nucleotide TC occurs 93380 times, or 5.18 %\n",
      "The nucleotide TA occurs 129992 times, or 7.21 %\n",
      "The nucleotide TT occurs 214506 times, or 11.89 %\n",
      "The nucleotide CT occurs 87282 times, or 4.84 %\n",
      "The nucleotide CG occurs 71478 times, or 3.96 %\n",
      "The nucleotide CA occurs 119865 times, or 6.65 %\n",
      "The nucleotide CC occurs 67008 times, or 3.71 %\n",
      "The nucleotide GT occurs 90021 times, or 4.99 %\n",
      "The nucleotide GG occurs 65563 times, or 3.63 %\n",
      "The nucleotide GC occurs 94124 times, or 5.22 %\n",
      "The nucleotide GA occurs 92803 times, or 5.14 %\n"
     ]
    }
   ],
   "source": [
    "# Import Data \n",
    "# read in file - H. Influenza\n",
    "hinflu = open(\"Hinfluenzae.txt\", \"r\")\n",
    "\n",
    "# H. Influenza\n",
    "DinucleoHinflu=CountDiFreq(hinflu)\n",
    "print('For H. Inluenza:')\n",
    "total_lengthH=sum(DinucleoHinflu.values())\n",
    "for n in DinucleoHinflu.keys():\n",
    "    fraction = round(100.0 * DinucleoHinflu.get(n) / total_lengthH ,2)\n",
    "    print (\"The nucleotide {0} occurs {1} times, or {2} %\".format(n, DinucleoHinflu.get(n), fraction))"
   ]
  },
  {
   "cell_type": "markdown",
   "metadata": {},
   "source": [
    "### Answer/ Observation of problem 2\n",
    "\n",
    "while"
   ]
  },
  {
   "cell_type": "markdown",
   "metadata": {},
   "source": [
    "## Problem 3\n",
    "Run your Python program from problem #2 on the genome of T. aquaticus. Turn in the observed\n",
    "dinucleotide frequencies. \n"
   ]
  },
  {
   "cell_type": "code",
   "execution_count": 78,
   "metadata": {},
   "outputs": [
    {
     "name": "stdout",
     "output_type": "stream",
     "text": [
      "\n",
      "For T. Aquatics:\n",
      "The nucleotide AT occurs 39223 times, or 1.84 %\n",
      "The nucleotide AG occurs 145934 times, or 6.86 %\n",
      "The nucleotide AC occurs 86403 times, or 4.06 %\n",
      "The nucleotide AA occurs 69762 times, or 3.28 %\n",
      "The nucleotide TG occurs 108228 times, or 5.09 %\n",
      "The nucleotide TC occurs 125738 times, or 5.91 %\n",
      "The nucleotide TA occurs 36561 times, or 1.72 %\n",
      "The nucleotide TT occurs 67227 times, or 3.16 %\n",
      "The nucleotide CT occurs 147353 times, or 6.92 %\n",
      "The nucleotide CG occurs 154002 times, or 7.24 %\n",
      "The nucleotide CA occurs 108601 times, or 5.1 %\n",
      "The nucleotide CC occurs 317012 times, or 14.9 %\n",
      "The nucleotide GT occurs 83888 times, or 3.94 %\n",
      "The nucleotide GG occurs 314039 times, or 14.76 %\n",
      "The nucleotide GC occurs 197752 times, or 9.29 %\n",
      "The nucleotide GA occurs 126397 times, or 5.94 %\n"
     ]
    }
   ],
   "source": [
    "# read in file - T. Aquatics\n",
    "tAquatics = open(\"TAquaticus.txt\", \"r\")\n",
    "# Calculate Frequencies of dinucleotide- T. Aquatics\n",
    "BaseFreqTaqua=CountDiFreq(tAquatics)\n",
    "print('\\nFor T. Aquatics:')\n",
    "\n",
    "total_length=sum(BaseFreqTaqua.values())\n",
    "for n in BaseFreqTaqua.keys():\n",
    "    fraction =round( 100.0 * BaseFreqTaqua.get(n) / total_length ,2)\n",
    "    print (\"The nucleotide {0} occurs {1} times, or {2} %\".format(n, BaseFreqTaqua.get(n), fraction))"
   ]
  },
  {
   "cell_type": "markdown",
   "metadata": {},
   "source": [
    "### Answer/ Observation of problem 3\n",
    "\n",
    "Yes"
   ]
  },
  {
   "cell_type": "markdown",
   "metadata": {},
   "source": [
    "## Problem 4\n",
    " Calculate the dinucleotide frequencies that you would expect for H. influenza, based upon the\n",
    "frequencies of the single nucleotides in H. influenza. Are the observed dinucleotide frequencies of the\n",
    "H. influenza genome that you found in problem 2 consistent with what you expected for the\n",
    "dinucleotide frequencies? If not, what might account for the difference? Turn in the expected\n",
    "dinucleotide frequencies & your speculations. "
   ]
  },
  {
   "cell_type": "code",
   "execution_count": null,
   "metadata": {},
   "outputs": [],
   "source": []
  },
  {
   "cell_type": "markdown",
   "metadata": {},
   "source": [
    "### Answer/ Observation of problem 4"
   ]
  },
  {
   "cell_type": "markdown",
   "metadata": {},
   "source": [
    "## Problem 5\n",
    "Run your Python program from problem #2 on the 3 mystery gene DNA sequences that you can download from the course web page. Print out the dinucleotide frequencies of each. Based on the observed dinucleotide frequencies, determine which genome each of the 3 genes is taken from. Turn in each of the genes’ dinucleotide frequencies & your guesses for their identities."
   ]
  },
  {
   "cell_type": "code",
   "execution_count": 82,
   "metadata": {},
   "outputs": [
    {
     "name": "stdout",
     "output_type": "stream",
     "text": [
      "Mystery Gene 1:\n",
      "The nucleotide AT occurs 101 times, or 11.39 %\n",
      "The nucleotide AG occurs 40 times, or 4.51 %\n",
      "The nucleotide AC occurs 29 times, or 3.27 %\n",
      "The nucleotide AA occurs 108 times, or 12.18 %\n",
      "The nucleotide TG occurs 77 times, or 8.68 %\n",
      "The nucleotide TC occurs 48 times, or 5.41 %\n",
      "The nucleotide TA occurs 45 times, or 5.07 %\n",
      "The nucleotide TT occurs 119 times, or 13.42 %\n",
      "The nucleotide CT occurs 27 times, or 3.04 %\n",
      "The nucleotide CG occurs 42 times, or 4.74 %\n",
      "The nucleotide CA occurs 46 times, or 5.19 %\n",
      "The nucleotide CC occurs 17 times, or 1.92 %\n",
      "The nucleotide GT occurs 42 times, or 4.74 %\n",
      "The nucleotide GG occurs 28 times, or 3.16 %\n",
      "The nucleotide GC occurs 37 times, or 4.17 %\n",
      "The nucleotide GA occurs 81 times, or 9.13 %\n"
     ]
    }
   ],
   "source": [
    "gene1 = open(\"MysteryGene1.txt\", \"r\")\n",
    "# Perform Analysis - Gene 1\n",
    "gene1Freq=CountDiFreq(gene1)\n",
    "print('Mystery Gene 1:')\n",
    "total_length=sum(gene1Freq.values())\n",
    "for n in gene1Freq.keys():\n",
    "    fraction =round( 100.0 * gene1Freq.get(n) / total_length ,2)\n",
    "    print (\"The nucleotide {0} occurs {1} times, or {2} %\".format(n, gene1Freq.get(n), fraction))"
   ]
  },
  {
   "cell_type": "code",
   "execution_count": 84,
   "metadata": {},
   "outputs": [
    {
     "name": "stdout",
     "output_type": "stream",
     "text": [
      "Mystery Gene 1:\n",
      "The nucleotide AT occurs 33 times, or 1.94 %\n",
      "The nucleotide AG occurs 127 times, or 7.46 %\n",
      "The nucleotide AC occurs 45 times, or 2.64 %\n",
      "The nucleotide AA occurs 42 times, or 2.47 %\n",
      "The nucleotide TG occurs 79 times, or 4.64 %\n",
      "The nucleotide TC occurs 125 times, or 7.34 %\n",
      "The nucleotide TA occurs 33 times, or 1.94 %\n",
      "The nucleotide TT occurs 54 times, or 3.17 %\n",
      "The nucleotide CT occurs 124 times, or 7.28 %\n",
      "The nucleotide CG occurs 123 times, or 7.22 %\n",
      "The nucleotide CA occurs 78 times, or 4.58 %\n",
      "The nucleotide CC occurs 282 times, or 16.56 %\n",
      "The nucleotide GT occurs 83 times, or 4.87 %\n",
      "The nucleotide GG occurs 227 times, or 13.33 %\n",
      "The nucleotide GC occurs 155 times, or 9.1 %\n",
      "The nucleotide GA occurs 93 times, or 5.46 %\n"
     ]
    }
   ],
   "source": [
    "# Perform Analysis - Gene 2\n",
    "gene2 = open(\"MysteryGene2.txt\", \"r\")\n",
    "gene2Freq=CountDiFreq(gene2)\n",
    "print('Mystery Gene 1:')\n",
    "total_length=sum(gene2Freq.values())\n",
    "for n in gene2Freq.keys():\n",
    "    fraction =round( 100.0 * gene2Freq.get(n) / total_length ,2)\n",
    "    print (\"The nucleotide {0} occurs {1} times, or {2} %\".format(n, gene2Freq.get(n), fraction))"
   ]
  },
  {
   "cell_type": "code",
   "execution_count": null,
   "metadata": {},
   "outputs": [],
   "source": [
    "# Perform Analysis - Gene 3\n",
    "gene3 = open(\"MysteryGene3.txt\", \"r\")\n",
    "gene2Freq=CountDiFreq(gene2)\n",
    "print('Mystery Gene 1:')\n",
    "total_length=sum(gene2Freq.values())\n",
    "for n in gene2Freq.keys():\n",
    "    fraction =round( 100.0 * gene2Freq.get(n) / total_length ,2)\n",
    "    print (\"The nucleotide {0} occurs {1} times, or {2} %\".format(n, gene2Freq.get(n), fraction))"
   ]
  },
  {
   "cell_type": "markdown",
   "metadata": {},
   "source": [
    "### Answer/ Observation of problem 5"
   ]
  },
  {
   "cell_type": "markdown",
   "metadata": {},
   "source": [
    "# Scale of Biological Data"
   ]
  },
  {
   "cell_type": "markdown",
   "metadata": {},
   "source": [
    "## Problem 6\n",
    "Assume for simplicity that one nucleotide takes one byte of storage on a computer. Could I store my entire genome on my cell phone’s 100 gigabyte SD card (1 GB is 109 bytes)? In spite of the first human genome sequence costing a billion dollars, it is now technologically & economically possible to sequence a complete human genome for ~$1000, and the price is still dropping. How much would it cost to sequence the genome of everyone in the US newly diagnosed with cancer in a given year? You can find up-to-date cancer statistics here: https://www.cancer.gov/about cancer/understanding/statistics How much space would it take to store those genomes? Round your answer to the nearest petabyte (PB, 1015 bytes). For comparison, the UT TACC supercomputer has a storage capacity of ~160 PB. "
   ]
  },
  {
   "cell_type": "code",
   "execution_count": 14,
   "metadata": {},
   "outputs": [
    {
     "name": "stdout",
     "output_type": "stream",
     "text": [
      "It takes roughly 2955665 petabytes to store the human genome. Alterantively, it take 275229 cell phones to store this data!! or 18472 TACC computers\n"
     ]
    }
   ],
   "source": [
    "# From https://www.genome.gov/human-genome-project/Completion-FAQ\n",
    "# there is about 3 biliion base pairs in the 23 human chromosomes\n",
    "humanDNA=3000000000 # 1 byte per base pair\n",
    "\n",
    "# Phone storage\n",
    "phone_storage=100*109 # in bytes\n",
    "\n",
    "print('It takes roughly %d petabytes to store the human genome. Alterantively, it takes %d cell-phones to store this data!! \\\n",
    "or %d TACC computers' %(humanDNA//1015,humanDNA//phone_storage,((humanDNA//1015)//160)))"
   ]
  },
  {
   "cell_type": "markdown",
   "metadata": {},
   "source": [
    "### Answer/ Observation of problem 6\n",
    "It takes a lot of storage to store the human genome! With the total size of complete set of 23 chromosomes, the human genome takes about 2,955,655 PB !"
   ]
  },
  {
   "cell_type": "markdown",
   "metadata": {},
   "source": [
    "## Problem 7\n",
    "How many times larger is the human genome sequence than the E. coli genome? The E. coli genome contains ~4,500 known genes, and the current estimate for the human genome is ~20,000-25,000 genes, or around 5 times more genes than in E. coli. Making the assumption that the genes of E. coli & human are about the same size (which isn’t at all true), calculate the density of genes in the two genomes.  "
   ]
  },
  {
   "cell_type": "code",
   "execution_count": null,
   "metadata": {},
   "outputs": [],
   "source": []
  },
  {
   "cell_type": "markdown",
   "metadata": {},
   "source": [
    "### Answer/ Observation of problem 7"
   ]
  },
  {
   "cell_type": "markdown",
   "metadata": {},
   "source": [
    "# Lastly\n",
    "Some exercises to familiarize you with the properties of protein sequences. Consult the BLOSUM50 substitution matrix in the class handout to answer these. The answers mayvary depending on how you define each case, so be sure to explain your logic. (In other words, there is often more than one way to answer these—I’m interested in seeing your choice and in how you defend your answer.) "
   ]
  },
  {
   "cell_type": "markdown",
   "metadata": {},
   "source": [
    "## Problem 8\n",
    "Which amino acid is most likely not to be substituted for by another? Explain how you came to this conclusion. "
   ]
  },
  {
   "cell_type": "code",
   "execution_count": 17,
   "metadata": {},
   "outputs": [
    {
     "data": {
      "text/html": [
       "<img src=\"https://upload.wikimedia.org/wikipedia/commons/thumb/0/02/BLOSUM62.png/400px-BLOSUM62.png\"/>"
      ],
      "text/plain": [
       "<IPython.core.display.Image object>"
      ]
     },
     "execution_count": 17,
     "metadata": {},
     "output_type": "execute_result"
    }
   ],
   "source": [
    "from IPython.display import Image\n",
    "Image(url= \"https://upload.wikimedia.org/wikipedia/commons/thumb/0/02/BLOSUM62.png/400px-BLOSUM62.png\")"
   ]
  },
  {
   "cell_type": "markdown",
   "metadata": {},
   "source": [
    "### Answer/ Observation of problem 8\n",
    "Some examples of AA likely being subistuited are the following pairs:\n",
    "\n",
    "* Trp-Asn (-4)\n",
    "* Trp-Asp (-4)\n",
    "* Glu-Cys (-4)\n",
    "* Leu-Asp (-4)"
   ]
  },
  {
   "cell_type": "markdown",
   "metadata": {},
   "source": [
    "## Problem 9\n",
    "Which amino acids are most easily substituted for by others? Explain how you came to this conclusion.\n"
   ]
  },
  {
   "cell_type": "markdown",
   "metadata": {},
   "source": [
    "### Answer/ Observation of problem 9\n",
    "Some examples of AA not likely being subistuited are the following pairs:\n",
    "\n",
    "* Val-lle (3)\n",
    "* Lys-Arg (2)\n",
    "* Tyr-His(2)\n",
    "* Tyr-Trp (2)\n",
    "* Met-Leu(2)\n",
    "* Glu- lys(1)\n",
    "\n",
    "Because this"
   ]
  },
  {
   "cell_type": "markdown",
   "metadata": {},
   "source": [
    "## Problem 10\n",
    "What are the most disfavored amino acid substitutions? Explain how you came to this conclusion. "
   ]
  },
  {
   "cell_type": "markdown",
   "metadata": {},
   "source": [
    "### Answer/ Observation of problem 10\n",
    "\n",
    "The most disfavored AA is:"
   ]
  },
  {
   "cell_type": "markdown",
   "metadata": {},
   "source": [
    "## Problem 11\n",
    "A.) Amino acids D, E, and H are charged; V, I, and L are hydrophobic (greasy). What is the average BLOSUM50 score within the group of the 3 charged amino acids?\n",
    "\n",
    "B.) Within the 3 hydrophobic amino acids?\n",
    "\n",
    "C.) Between the 2 groups?\n",
    "\n",
    "D.) Suggest reasons for the pattern observed.  "
   ]
  },
  {
   "cell_type": "markdown",
   "metadata": {},
   "source": [
    "### Answer/ Observation of problem 11\n",
    "**a.)** These charge ammino acids have the following scores:\n",
    "* D(-) = 6\n",
    "* E(-) = 5\n",
    "* H(+) = 8\n",
    "With an average score of *6.33*\n",
    "\n",
    "**b.)** These Greasy ammino acids have the following scores:\n",
    "* V - 4\n",
    "* I - 4\n",
    "* L - 4\n",
    "With an average score of *4*\n",
    "\n",
    "**c.)**\n",
    "The average score for both groups combined is *5.1*\n",
    "\n",
    "**d.)**\n",
    "There are a few observations that can be made looking at answers a-c:\n",
    "\n",
    "**i.** In summary, the pattern seen in the for the chosen ammino acids is that charged ammino acids have a higher score due to their \"uniqueness\" and not being easily substituted for other ammino acids due to thier charged nature. On the other hand, hydrophobic ammino acids, have a lower score (compare to charged ammino acids, but still higher than incorrect matches), due to the fact that they can be easily subsituted for one another due to thier structure!\n",
    "\n",
    "**ii.** The first observation is that average BLOSUM score for charged ammino acids is higher than hydrophobic ones. This is most likely due to the fact that there are 10 hydrophobic ammino acids and many of which share a cery simalar structure. On the other hand there is only 3 postive and 2 negative charged ammino acids and because of this it inuitively makes sense to score the \"rarer\" or more specific ammino acids compared to the more common/ easily subistuted(the hydrophobics). By doing this we are able to better align by better adapting the score to account for ammino acids that are more/less subistuted due to their structure.\n",
    "\n",
    "**iii.** Looking at the Blosum matrix, we can see that the lowest postive score for a correct match is a 4. Which also happens to be the score for V,I,L and other hydrophobic ammino acids. This observation confirms what we mentioned above about hydrophobic ammino acids not being the best indicator for alignment. This is espeacially true when the V-I subistution score is 3, which is only one point away from the \"correct match\". For a gene that has many mutations like the V-I, it may be hard to find the best alignment is no other \"rare\" ammino acids appear!\n"
   ]
  }
 ],
 "metadata": {
  "kernelspec": {
   "display_name": "Python 3",
   "language": "python",
   "name": "python3"
  },
  "language_info": {
   "codemirror_mode": {
    "name": "ipython",
    "version": 3
   },
   "file_extension": ".py",
   "mimetype": "text/x-python",
   "name": "python",
   "nbconvert_exporter": "python",
   "pygments_lexer": "ipython3",
   "version": "3.8.5"
  }
 },
 "nbformat": 4,
 "nbformat_minor": 4
}
